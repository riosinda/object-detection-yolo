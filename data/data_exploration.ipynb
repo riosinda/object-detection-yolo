{
 "cells": [
  {
   "cell_type": "code",
   "execution_count": 2,
   "id": "b990aaf9",
   "metadata": {},
   "outputs": [],
   "source": [
    "# EDA Y ANALISIS DE IMAGENES SKU110K\n",
    "import os\n",
    "from PIL import Image\n",
    "import pandas as pd\n",
    "import matplotlib.pyplot as plt"
   ]
  },
  {
   "cell_type": "code",
   "execution_count": 71,
   "id": "91694685",
   "metadata": {},
   "outputs": [],
   "source": [
    "df_val = pd.read_csv('SKU110K_dataset/annotations/annotations_val.csv')\n",
    "df_train = pd.read_csv('SKU110K_dataset/annotations/annotations_train.csv')\n",
    "df_test = pd.read_csv('SKU110K_dataset/annotations/annotations_test.csv')"
   ]
  },
  {
   "cell_type": "code",
   "execution_count": 72,
   "id": "252d8090",
   "metadata": {},
   "outputs": [],
   "source": [
    "df_val.columns = [\"image_name\", \"x1\", \"y1\", \"x2\", \"y2\", \"Class\", \"image_width\", \"image_height\"]\n",
    "df_train.columns = [\"image_name\", \"x1\", \"y1\", \"x2\", \"y2\", \"Class\", \"image_width\", \"image_height\"]\n",
    "df_test.columns = [\"image_name\", \"x1\", \"y1\", \"x2\", \"y2\", \"Class\", \"image_width\", \"image_height\"]"
   ]
  },
  {
   "cell_type": "code",
   "execution_count": 73,
   "id": "9bd2fb44",
   "metadata": {},
   "outputs": [
    {
     "name": "stdout",
     "output_type": "stream",
     "text": [
      "  image_name    x1    y1    x2    y2   Class  image_width  image_height\n",
      "0  val_0.jpg   467  1066   589  1330  object         2336          4160\n",
      "1  val_0.jpg   602  1085   739  1329  object         2336          4160\n",
      "2  val_0.jpg   756  1090   894  1368  object         2336          4160\n",
      "3  val_0.jpg   899  1095  1042  1376  object         2336          4160\n",
      "4  val_0.jpg  1051  1105  1193  1375  object         2336          4160\n",
      "    image_name    x1    y1    x2    y2   Class  image_width  image_height\n",
      "0  train_0.jpg  1268  1923  1365  2209  object         3024          3024\n",
      "1  train_0.jpg  1135  2074  1261  2166  object         3024          3024\n",
      "2  train_0.jpg  1045  2085  1122  2258  object         3024          3024\n",
      "3  train_0.jpg   976  2036  1040  2177  object         3024          3024\n",
      "4  train_0.jpg   863  2048   937  2194  object         3024          3024\n",
      "   image_name    x1    y1    x2    y2   Class  image_width  image_height\n",
      "0  test_0.jpg   727  2269   862  2376  object         2448          3264\n",
      "1  test_0.jpg   463  2274   715  2434  object         2448          3264\n",
      "2  test_0.jpg   158  2290   283  2444  object         2448          3264\n",
      "3  test_0.jpg     0  2290   154  2456  object         2448          3264\n",
      "4  test_0.jpg  1995  2032  2131  2199  object         2448          3264\n"
     ]
    }
   ],
   "source": [
    "print(df_val.head())\n",
    "print(df_train.head())\n",
    "print(df_test.head())"
   ]
  },
  {
   "cell_type": "code",
   "execution_count": 74,
   "id": "1b4c7b6a",
   "metadata": {},
   "outputs": [
    {
     "name": "stdout",
     "output_type": "stream",
     "text": [
      "['object']\n",
      "['object']\n",
      "['object']\n"
     ]
    }
   ],
   "source": [
    "print(df_val[\"Class\"].unique())\n",
    "print(df_train[\"Class\"].unique())\n",
    "print(df_test[\"Class\"].unique())"
   ]
  },
  {
   "cell_type": "code",
   "execution_count": 75,
   "id": "4e041893",
   "metadata": {},
   "outputs": [],
   "source": [
    "names= {\"object\": 0}"
   ]
  },
  {
   "cell_type": "code",
   "execution_count": 76,
   "id": "439145ef",
   "metadata": {},
   "outputs": [
    {
     "name": "stderr",
     "output_type": "stream",
     "text": [
      "C:\\Users\\User\\AppData\\Local\\Temp\\ipykernel_35392\\2193691738.py:8: FutureWarning: Downcasting behavior in `replace` is deprecated and will be removed in a future version. To retain the old behavior, explicitly call `result.infer_objects(copy=False)`. To opt-in to the future behavior, set `pd.set_option('future.no_silent_downcasting', True)`\n",
      "  df[\"class\"] = df[\"Class\"].replace(names)\n",
      "C:\\Users\\User\\AppData\\Local\\Temp\\ipykernel_35392\\2193691738.py:8: FutureWarning: Downcasting behavior in `replace` is deprecated and will be removed in a future version. To retain the old behavior, explicitly call `result.infer_objects(copy=False)`. To opt-in to the future behavior, set `pd.set_option('future.no_silent_downcasting', True)`\n",
      "  df[\"class\"] = df[\"Class\"].replace(names)\n",
      "C:\\Users\\User\\AppData\\Local\\Temp\\ipykernel_35392\\2193691738.py:8: FutureWarning: Downcasting behavior in `replace` is deprecated and will be removed in a future version. To retain the old behavior, explicitly call `result.infer_objects(copy=False)`. To opt-in to the future behavior, set `pd.set_option('future.no_silent_downcasting', True)`\n",
      "  df[\"class\"] = df[\"Class\"].replace(names)\n"
     ]
    }
   ],
   "source": [
    "# Agrupar todos los datasets en una lista\n",
    "datasets = [df_train, df_val, df_test]\n",
    "\n",
    "# Aplicar el mismo proceso a cada DataFrame\n",
    "for df in datasets:\n",
    "    # Reemplazar nombres de clase por números\n",
    "    df[\"Class\"] = df[\"Class\"].astype(str)\n",
    "    df[\"class\"] = df[\"Class\"].replace(names)   \n",
    "     # Calcular coordenadas normalizadas (YOLO format)\n",
    "    df[\"x_center\"] = (df[\"x1\"] + df[\"x2\"]) / (2 * df[\"image_width\"])\n",
    "    df[\"y_center\"] = (df[\"y1\"] + df[\"y2\"]) / (2 * df[\"image_height\"])\n",
    "    df[\"width\"] = (df[\"x2\"] - df[\"x1\"]) / df[\"image_width\"]\n",
    "    df[\"height\"] = (df[\"y2\"] - df[\"y1\"]) / df[\"image_height\"]\n",
    "    df.drop(df.columns[1:8], axis=1, inplace=True)"
   ]
  },
  {
   "cell_type": "code",
   "execution_count": 77,
   "id": "a7ed673a",
   "metadata": {},
   "outputs": [
    {
     "name": "stdout",
     "output_type": "stream",
     "text": [
      "  image_name  class  x_center  y_center     width    height\n",
      "0  val_0.jpg      0  0.226027  0.287981  0.052226  0.063462\n",
      "1  val_0.jpg      0  0.287029  0.290144  0.058647  0.058654\n",
      "2  val_0.jpg      0  0.353168  0.295433  0.059075  0.066827\n",
      "3  val_0.jpg      0  0.415454  0.296995  0.061216  0.067548\n",
      "4  val_0.jpg      0  0.480308  0.298077  0.060788  0.064904\n",
      "    image_name  class  x_center  y_center     width    height\n",
      "0  train_0.jpg      0  0.435351  0.683201  0.032077  0.094577\n",
      "1  train_0.jpg      0  0.396164  0.701058  0.041667  0.030423\n",
      "2  train_0.jpg      0  0.358300  0.718089  0.025463  0.057209\n",
      "3  train_0.jpg      0  0.333333  0.696594  0.021164  0.046627\n",
      "4  train_0.jpg      0  0.297619  0.701389  0.024471  0.048280\n",
      "   image_name  class  x_center  y_center     width    height\n",
      "0  test_0.jpg      0  0.324551  0.711550  0.055147  0.032782\n",
      "1  test_0.jpg      0  0.240605  0.721201  0.102941  0.049020\n",
      "2  test_0.jpg      0  0.090074  0.725184  0.051062  0.047181\n",
      "3  test_0.jpg      0  0.031454  0.727022  0.062908  0.050858\n",
      "4  test_0.jpg      0  0.842729  0.648131  0.055556  0.051164\n"
     ]
    }
   ],
   "source": [
    "print(df_val.head())\n",
    "print(df_train.head())\n",
    "print(df_test.head())"
   ]
  },
  {
   "cell_type": "code",
   "execution_count": null,
   "id": "b03d80f4",
   "metadata": {},
   "outputs": [],
   "source": [
    "df_val.to_csv(\"SKU110K_dataset/annotations/annotations_val_xywh.csv\", index=False, header=False)\n",
    "df_test.to_csv(\"SKU110K_dataset/annotations/annotations_test_xywh.csv\", index=False, header=False, mode='a')\n",
    "df_train.to_csv(\"SKU110K_dataset/annotations/annotations_train_xywh.csv\", index=False, header=False, mode='a')\n"
   ]
  }
 ],
 "metadata": {
  "kernelspec": {
   "display_name": "Python 3",
   "language": "python",
   "name": "python3"
  },
  "language_info": {
   "codemirror_mode": {
    "name": "ipython",
    "version": 3
   },
   "file_extension": ".py",
   "mimetype": "text/x-python",
   "name": "python",
   "nbconvert_exporter": "python",
   "pygments_lexer": "ipython3",
   "version": "3.13.5"
  }
 },
 "nbformat": 4,
 "nbformat_minor": 5
}
