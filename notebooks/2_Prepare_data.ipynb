{
 "cells": [
  {
   "cell_type": "markdown",
   "id": "db971a7d",
   "metadata": {},
   "source": [
    "# Prepare data for YOLOv5"
   ]
  },
  {
   "cell_type": "markdown",
   "id": "c7cc18a2",
   "metadata": {},
   "source": [
    "## Import modules"
   ]
  },
  {
   "cell_type": "code",
   "execution_count": 1,
   "id": "a52add27",
   "metadata": {},
   "outputs": [],
   "source": [
    "import os\n",
    "import pandas as pd\n",
    "\n",
    "import sys\n",
    "sys.path.append('../src')\n",
    "\n",
    "from utils import convert_to_yolo_format\n",
    "from utils import order_images"
   ]
  },
  {
   "cell_type": "markdown",
   "id": "38578a2b",
   "metadata": {},
   "source": [
    "## Load Original SKU110K dataset labels"
   ]
  },
  {
   "cell_type": "code",
   "execution_count": 2,
   "id": "f6f6d8e6",
   "metadata": {},
   "outputs": [],
   "source": [
    "columns = [\"image_name\", \"x1\", \"y1\", \"x2\", \"y2\", \"class\", \"image_width\", \"image_height\"]\n",
    "train_df = pd.read_csv('../data/SKU110K_dataset/annotations/annotations_train.csv')\n",
    "test_df = pd.read_csv('../data/SKU110K_dataset/annotations/annotations_test.csv')\n",
    "val_df = pd.read_csv('../data/SKU110K_dataset/annotations/annotations_val.csv')\n",
    "\n",
    "train_df.columns = columns\n",
    "test_df.columns = columns\n",
    "val_df.columns = columns"
   ]
  },
  {
   "cell_type": "markdown",
   "id": "a8d8ee9d",
   "metadata": {},
   "source": [
    "### Call ´convert_to_yolo_format´ function"
   ]
  },
  {
   "cell_type": "code",
   "execution_count": 3,
   "id": "b47bab89",
   "metadata": {},
   "outputs": [
    {
     "name": "stderr",
     "output_type": "stream",
     "text": [
      "c:\\Users\\USER\\Documents\\personal_projects\\object-detection-yolo\\notebooks\\../src\\utils.py:14: FutureWarning: Downcasting behavior in `replace` is deprecated and will be removed in a future version. To retain the old behavior, explicitly call `result.infer_objects(copy=False)`. To opt-in to the future behavior, set `pd.set_option('future.no_silent_downcasting', True)`\n",
      "  df[\"class\"] = df[\"class\"].replace(\"object\", 0)\n"
     ]
    },
    {
     "name": "stdout",
     "output_type": "stream",
     "text": [
      "Conversion complete. Files saved in ../data/SKU110K_dataset/labels/train\n"
     ]
    },
    {
     "name": "stderr",
     "output_type": "stream",
     "text": [
      "c:\\Users\\USER\\Documents\\personal_projects\\object-detection-yolo\\notebooks\\../src\\utils.py:14: FutureWarning: Downcasting behavior in `replace` is deprecated and will be removed in a future version. To retain the old behavior, explicitly call `result.infer_objects(copy=False)`. To opt-in to the future behavior, set `pd.set_option('future.no_silent_downcasting', True)`\n",
      "  df[\"class\"] = df[\"class\"].replace(\"object\", 0)\n"
     ]
    },
    {
     "name": "stdout",
     "output_type": "stream",
     "text": [
      "Conversion complete. Files saved in ../data/SKU110K_dataset/labels/test\n"
     ]
    },
    {
     "name": "stderr",
     "output_type": "stream",
     "text": [
      "c:\\Users\\USER\\Documents\\personal_projects\\object-detection-yolo\\notebooks\\../src\\utils.py:14: FutureWarning: Downcasting behavior in `replace` is deprecated and will be removed in a future version. To retain the old behavior, explicitly call `result.infer_objects(copy=False)`. To opt-in to the future behavior, set `pd.set_option('future.no_silent_downcasting', True)`\n",
      "  df[\"class\"] = df[\"class\"].replace(\"object\", 0)\n"
     ]
    },
    {
     "name": "stdout",
     "output_type": "stream",
     "text": [
      "Conversion complete. Files saved in ../data/SKU110K_dataset/labels/val\n"
     ]
    }
   ],
   "source": [
    "convert_to_yolo_format(train_df, \"../data/SKU110K_dataset/labels/train\")\n",
    "convert_to_yolo_format(test_df, \"../data/SKU110K_dataset/labels/test\")\n",
    "convert_to_yolo_format(val_df, \"../data/SKU110K_dataset/labels/val\")"
   ]
  },
  {
   "cell_type": "markdown",
   "id": "164076ad",
   "metadata": {},
   "source": [
    "### Order images folder for YOLOv5"
   ]
  },
  {
   "cell_type": "code",
   "execution_count": 4,
   "id": "2d1c8323",
   "metadata": {},
   "outputs": [
    {
     "name": "stdout",
     "output_type": "stream",
     "text": [
      "Images ordered succesfully.\n"
     ]
    }
   ],
   "source": [
    "\n",
    "order_images(\"../data/SKU110K_dataset/images/\")"
   ]
  }
 ],
 "metadata": {
  "kernelspec": {
   "display_name": "object-detection-yolo",
   "language": "python",
   "name": "python3"
  },
  "language_info": {
   "codemirror_mode": {
    "name": "ipython",
    "version": 3
   },
   "file_extension": ".py",
   "mimetype": "text/x-python",
   "name": "python",
   "nbconvert_exporter": "python",
   "pygments_lexer": "ipython3",
   "version": "3.12.0"
  }
 },
 "nbformat": 4,
 "nbformat_minor": 5
}
