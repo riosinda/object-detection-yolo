{
 "cells": [
  {
   "cell_type": "markdown",
   "id": "c3bca441",
   "metadata": {},
   "source": [
    "## Graphics device"
   ]
  },
  {
   "cell_type": "code",
   "execution_count": 1,
   "id": "c1628530",
   "metadata": {},
   "outputs": [
    {
     "name": "stdout",
     "output_type": "stream",
     "text": [
      "CUDA disponible: False\n",
      "No se detectó ninguna GPU con CUDA.\n"
     ]
    }
   ],
   "source": [
    "import torch\n",
    "\n",
    "print(\"CUDA disponible:\", torch.cuda.is_available())\n",
    "if torch.cuda.is_available():\n",
    "    print(\"Versión de CUDA:\", torch.version.cuda)\n",
    "    print(\"Número de GPUs:\", torch.cuda.device_count())\n",
    "    print(\"Nombre de la GPU:\", torch.cuda.get_device_name(0))\n",
    "else:\n",
    "    print(\"No se detectó ninguna GPU con CUDA.\")\n"
   ]
  },
  {
   "cell_type": "code",
   "execution_count": 1,
   "id": "a52add27",
   "metadata": {},
   "outputs": [],
   "source": [
    "import os\n",
    "import pandas as pd\n",
    "\n",
    "import sys\n",
    "sys.path.append('../src')\n",
    "\n",
    "from utils import convert_to_yolo_format"
   ]
  },
  {
   "cell_type": "code",
   "execution_count": 2,
   "id": "f6f6d8e6",
   "metadata": {},
   "outputs": [],
   "source": [
    "# Cargar dataset con nombres correctos\n",
    "columns = [\"image_name\", \"x1\", \"y1\", \"x2\", \"y2\", \"class\", \"image_width\", \"image_height\"]\n",
    "train_df = pd.read_csv('../data/SKU110K_dataset/annotations/annotations_train.csv')\n",
    "test_df = pd.read_csv('../data/SKU110K_dataset/annotations/annotations_test.csv')\n",
    "val_df = pd.read_csv('../data/SKU110K_dataset/annotations/annotations_val.csv')\n",
    "\n",
    "train_df.columns = columns\n",
    "test_df.columns = columns\n",
    "val_df.columns = columns"
   ]
  },
  {
   "cell_type": "code",
   "execution_count": 3,
   "id": "b47bab89",
   "metadata": {},
   "outputs": [
    {
     "name": "stderr",
     "output_type": "stream",
     "text": [
      "c:\\Users\\josei\\OneDrive\\Documentos\\AnyoneAI\\object-detection-yolo\\notebooks\\../src\\utils.py:14: FutureWarning: Downcasting behavior in `replace` is deprecated and will be removed in a future version. To retain the old behavior, explicitly call `result.infer_objects(copy=False)`. To opt-in to the future behavior, set `pd.set_option('future.no_silent_downcasting', True)`\n",
      "  df[\"class\"] = df[\"class\"].replace(\"object\", 0)\n"
     ]
    },
    {
     "name": "stdout",
     "output_type": "stream",
     "text": [
      "✅ Conversión completa. Archivos guardados en ../data/SKU110K_dataset/labels/train\n"
     ]
    },
    {
     "name": "stderr",
     "output_type": "stream",
     "text": [
      "c:\\Users\\josei\\OneDrive\\Documentos\\AnyoneAI\\object-detection-yolo\\notebooks\\../src\\utils.py:14: FutureWarning: Downcasting behavior in `replace` is deprecated and will be removed in a future version. To retain the old behavior, explicitly call `result.infer_objects(copy=False)`. To opt-in to the future behavior, set `pd.set_option('future.no_silent_downcasting', True)`\n",
      "  df[\"class\"] = df[\"class\"].replace(\"object\", 0)\n"
     ]
    },
    {
     "name": "stdout",
     "output_type": "stream",
     "text": [
      "✅ Conversión completa. Archivos guardados en ../data/SKU110K_dataset/labels/test\n"
     ]
    },
    {
     "name": "stderr",
     "output_type": "stream",
     "text": [
      "c:\\Users\\josei\\OneDrive\\Documentos\\AnyoneAI\\object-detection-yolo\\notebooks\\../src\\utils.py:14: FutureWarning: Downcasting behavior in `replace` is deprecated and will be removed in a future version. To retain the old behavior, explicitly call `result.infer_objects(copy=False)`. To opt-in to the future behavior, set `pd.set_option('future.no_silent_downcasting', True)`\n",
      "  df[\"class\"] = df[\"class\"].replace(\"object\", 0)\n"
     ]
    },
    {
     "name": "stdout",
     "output_type": "stream",
     "text": [
      "✅ Conversión completa. Archivos guardados en ../data/SKU110K_dataset/labels/val\n"
     ]
    }
   ],
   "source": [
    "convert_to_yolo_format(train_df, \"../data/SKU110K_dataset/labels/train\")\n",
    "convert_to_yolo_format(test_df, \"../data/SKU110K_dataset/labels/test\")\n",
    "convert_to_yolo_format(val_df, \"../data/SKU110K_dataset/labels/val\")"
   ]
  },
  {
   "cell_type": "code",
   "execution_count": 2,
   "id": "2d1c8323",
   "metadata": {},
   "outputs": [
    {
     "name": "stdout",
     "output_type": "stream",
     "text": [
      "✅ Imágenes movidas correctamente según su prefijo ('train_', 'val_', 'test_').\n"
     ]
    }
   ],
   "source": [
    "from utils import order_images\n",
    "order_images(\"../data/SKU110K_dataset/images/\")"
   ]
  }
 ],
 "metadata": {
  "kernelspec": {
   "display_name": ".venv",
   "language": "python",
   "name": "python3"
  },
  "language_info": {
   "codemirror_mode": {
    "name": "ipython",
    "version": 3
   },
   "file_extension": ".py",
   "mimetype": "text/x-python",
   "name": "python",
   "nbconvert_exporter": "python",
   "pygments_lexer": "ipython3",
   "version": "3.11.0"
  }
 },
 "nbformat": 4,
 "nbformat_minor": 5
}
